{
 "cells": [
  {
   "cell_type": "code",
   "execution_count": null,
   "metadata": {},
   "outputs": [],
   "source": [
    "from tinydb import TinyDB, Query"
   ]
  },
  {
   "cell_type": "code",
   "execution_count": null,
   "metadata": {},
   "outputs": [],
   "source": [
    "db = TinyDB('financeDb.json')"
   ]
  },
  {
   "cell_type": "code",
   "execution_count": null,
   "metadata": {},
   "outputs": [],
   "source": [
    "db.table(\"Income\")\n",
    "db.table(\"FixedCosts\")\n",
    "db.table(\"Savings\")\n",
    "db.table(\"Spending\")"
   ]
  },
  {
   "cell_type": "code",
   "execution_count": null,
   "metadata": {},
   "outputs": [],
   "source": [
    "db.table(\"Income\").insert({'info' : 'salary', 'amount' : 1234})\n",
    "db.table(\"FixedCosts\").insert({'info' : 'rent', 'amount' : 123})\n",
    "db.table(\"Savings\").insert({'info' : 'car', 'amount' : 123})\n",
    "db.table(\"Spending\").insert({'info' : 'groceries', 'amount' : 123})"
   ]
  },
  {
   "cell_type": "code",
   "execution_count": null,
   "metadata": {},
   "outputs": [],
   "source": [
    "Item = Query()\n",
    "db.table(\"Income\").remove(Item.info == 'salary')\n",
    "db.table(\"FixedCosts\").remove(Item.info == 'rent')\n",
    "db.table(\"Savings\").remove(Item.info == 'car')\n",
    "db.table(\"Spending\").remove(Item.info == 'groceries')\n"
   ]
  },
  {
   "cell_type": "code",
   "execution_count": null,
   "metadata": {},
   "outputs": [],
   "source": [
    "df_transactions = pd.read_csv('stmt.csv', skiprows=7)\n",
    "df_info = pd.read_csv('stmt.csv', nrows=4)"
   ]
  },
  {
   "cell_type": "code",
   "execution_count": null,
   "metadata": {},
   "outputs": [],
   "source": []
  },
  {
   "cell_type": "code",
   "execution_count": null,
   "metadata": {},
   "outputs": [],
   "source": []
  },
  {
   "cell_type": "code",
   "execution_count": null,
   "metadata": {},
   "outputs": [],
   "source": []
  },
  {
   "cell_type": "code",
   "execution_count": null,
   "metadata": {},
   "outputs": [],
   "source": [
    "db = TinyDB('db.json')"
   ]
  },
  {
   "cell_type": "code",
   "execution_count": null,
   "metadata": {},
   "outputs": [],
   "source": [
    "transactions = db.table('transactions')\n",
    "generalInfo = db.table('generalInfo')"
   ]
  },
  {
   "cell_type": "code",
   "execution_count": null,
   "metadata": {},
   "outputs": [],
   "source": [
    "#db.drop_tables()"
   ]
  },
  {
   "cell_type": "code",
   "execution_count": null,
   "metadata": {},
   "outputs": [],
   "source": []
  },
  {
   "cell_type": "code",
   "execution_count": null,
   "metadata": {},
   "outputs": [],
   "source": []
  },
  {
   "cell_type": "code",
   "execution_count": null,
   "metadata": {},
   "outputs": [],
   "source": [
    "#Query object\n",
    "query = Query()"
   ]
  },
  {
   "cell_type": "code",
   "execution_count": null,
   "metadata": {},
   "outputs": [],
   "source": [
    "#Insert all transactions\n",
    "for i in range(len(df_transactions)):\n",
    "\n",
    "    if (not(transactions.search(query.date == df_transactions.iloc[i,0]))):\n",
    "        transactions.insert({'date': df_transactions.iloc[i,0], 'name' : df_transactions.iloc[i,1], 'amount' : df_transactions.iloc[i,2]})"
   ]
  },
  {
   "cell_type": "code",
   "execution_count": null,
   "metadata": {},
   "outputs": [],
   "source": [
    "#Insert general info\n",
    "startDate = (df_info.iloc[0][0])[-10:]\n",
    "endDate = (df_info.iloc[3][0])[-10:]\n",
    "startBalance = df_info.iloc[0][2]\n",
    "endBalance = df_info.iloc[3][2]\n",
    "totalCredits = df_info.iloc[1][2]\n",
    "totalDebits = df_info.iloc[2][2]\n",
    "\n",
    "if (not(generalInfo.search(query.startDate == startDate))):\n",
    "    generalInfo.insert({'startDate': startDate, 'endDate': endDate, 'startBalance': startBalance,\n",
    "                       'endBalance': endBalance, 'totalCredits': totalCredits, 'totalDebits': totalDebits})"
   ]
  },
  {
   "cell_type": "code",
   "execution_count": null,
   "metadata": {},
   "outputs": [],
   "source": []
  },
  {
   "cell_type": "code",
   "execution_count": null,
   "metadata": {},
   "outputs": [],
   "source": []
  },
  {
   "cell_type": "code",
   "execution_count": null,
   "metadata": {},
   "outputs": [],
   "source": [
    "import csv"
   ]
  },
  {
   "cell_type": "code",
   "execution_count": null,
   "metadata": {},
   "outputs": [],
   "source": [
    "file_to_open = 'stmt.csv'"
   ]
  },
  {
   "cell_type": "code",
   "execution_count": null,
   "metadata": {},
   "outputs": [],
   "source": [
    "checkingBalance = 0.00\n",
    "with open(file_to_open, 'r') as this_csv_file:\n",
    "    this_csv_reader = csv.reader(this_csv_file, delimiter=\",\")\n",
    "    \n",
    "    for i in range(4):\n",
    "        header = next(this_csv_reader)\n",
    "\n",
    "    totalDebits = header[2]\n",
    "    print(\"Total Debits: $\" + totalDebits)\n",
    "    header = next(this_csv_reader)\n",
    "    checkingBalance = header[2]\n",
    "    print(\"Checking Balance: $\" + checkingBalance)\n",
    "\n",
    "    listOfDebits = []\n",
    "\n",
    "    i=0\n",
    "    for row in this_csv_reader:\n",
    "        if (i>2):\n",
    "            if (float(row[2]) < 0.00):\n",
    "                listOfDebits.append([row[0], row[1], float(row[2])])\n",
    "        i+=1\n",
    "    print(listOfDebits)\n"
   ]
  },
  {
   "cell_type": "code",
   "execution_count": null,
   "metadata": {},
   "outputs": [],
   "source": []
  }
 ],
 "metadata": {
  "kernelspec": {
   "name": "python377jvsc74a57bd096723ba48283ba710ded719671f196be7a695449babc114608d9bbb176bfed52",
   "display_name": "Python 3.7.7 64-bit ('3.7.7': pyenv)"
  },
  "language_info": {
   "codemirror_mode": {
    "name": "ipython",
    "version": 3
   },
   "file_extension": ".py",
   "mimetype": "text/x-python",
   "name": "python",
   "nbconvert_exporter": "python",
   "pygments_lexer": "ipython3",
   "version": "3.7.7"
  }
 },
 "nbformat": 4,
 "nbformat_minor": 2
}